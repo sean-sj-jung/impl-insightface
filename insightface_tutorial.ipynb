{
 "cells": [
  {
   "cell_type": "code",
   "execution_count": 4,
   "id": "b63d3705-d871-4e08-aaae-aecf472cf3f3",
   "metadata": {},
   "outputs": [],
   "source": [
    "import cv2\n",
    "import numpy as np\n",
    "import insightface\n",
    "from insightface.app import FaceAnalysis\n",
    "from insightface.data import get_image as ins_get_image\n",
    "\n",
    "import matplotlib.pyplot as plt"
   ]
  },
  {
   "cell_type": "code",
   "execution_count": 5,
   "id": "0adc4a11-d287-4ef9-8216-e500c099911a",
   "metadata": {},
   "outputs": [],
   "source": [
    "source_path = \"/path/to/source/face/image.jpg\"\n",
    "target_path = \"/path/to/target/image.png\"\n",
    "\n",
    "source = cv2.imread(source_path)\n",
    "target = cv2.imread(target_path)"
   ]
  },
  {
   "cell_type": "code",
   "execution_count": 11,
   "id": "b598a1b2-884a-41d9-bfa0-dd868916d240",
   "metadata": {},
   "outputs": [],
   "source": [
    "app = FaceAnalysis(providers=['CUDAExecutionProvider', 'CPUExecutionProvider'])\n",
    "app.prepare(ctx_id=0, det_size=(640, 640))\n",
    "\n",
    "source_faces = app.get(source) # detect faces\n",
    "source_face = source_faces[0] # Using the first detected face in the source image\n",
    "\n",
    "target_faces = app.get(target)\n",
    "target_face = target_faces[0] # Using the first detected face in the source image"
   ]
  },
  {
   "cell_type": "code",
   "execution_count": 7,
   "id": "695d8de1-ebd1-40d0-8e38-c82ca3125ba7",
   "metadata": {},
   "outputs": [],
   "source": [
    "# ## Visualize if faces are properly detected\n",
    "\n",
    "# bbox = faces[0] ['bbox'] # Assuming there is only one face in the source\n",
    "# bbox = [int(b) for b in bbox]\n",
    "# plt.imshow(img[bbox[1]:bbox[3], bbox[0]:bbox[2], ::-1])"
   ]
  },
  {
   "cell_type": "code",
   "execution_count": 12,
   "id": "6aab7091-2a0b-4f3a-8265-1ac80fdbdd63",
   "metadata": {},
   "outputs": [],
   "source": [
    "swapper = insightface.model_zoo.get_model('inswapper_128.onnx', download=False, downlad_zip=False)\n",
    "output = swapper.get(target, target_face, source_face, paste_back=True)\n",
    "cv2.imwrite(\"test.jpg\", output)"
   ]
  },
  {
   "cell_type": "code",
   "execution_count": null,
   "id": "40c7d202-1c01-4800-81c8-530f6f617e7d",
   "metadata": {},
   "outputs": [],
   "source": []
  }
 ],
 "metadata": {
  "kernelspec": {
   "display_name": "Python 3 (ipykernel)",
   "language": "python",
   "name": "python3"
  },
  "language_info": {
   "codemirror_mode": {
    "name": "ipython",
    "version": 3
   },
   "file_extension": ".py",
   "mimetype": "text/x-python",
   "name": "python",
   "nbconvert_exporter": "python",
   "pygments_lexer": "ipython3",
   "version": "3.11.8"
  }
 },
 "nbformat": 4,
 "nbformat_minor": 5
}
